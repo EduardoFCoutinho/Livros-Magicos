import random
from datetime import date, timedelta


class Biblioteca:

    def __init__(self, nome):
        self.nome = nome
        self.leitores = []
        self.capacidade_leitores = 2


class Livro:

    def __init__(self, titulo, autor, genero, data_publicacao):
        self.titulo = titulo
        self.autor = autor
        self.genero = genero
        self.data_publicacao = data_publicacao
        self.emprestado = False

    def __str__(self):
        return f"{self.titulo}, {self.autor}, {self.genero}, {self.data_publicacao}"


class Bibliotecario:

    def __init__(self, nome):
        self.nome = nome
        self.livros = []

    def adicionar_livro(self, titulo, autor, genero, data_publicacao):
        self.livros.append(livro)
        print(f"Livro {livro.titulo} adicionado com sucesso!")
        try:
            data_publicacao = datetime.datetime.strptime(
                data_publicacao, '%Y-%m-%d').date()
        except ValueError:
            print("Formato de data inválido. Use YYYY-MM-DD.")
            return
        if data_publicacao < datetime.date.today():
            print(
                "Data de publicação inválida. O livro não pode ser adicionado."
            )
            return

    def gerar_livros_aleatorios(self, quantidade, titulos, autores, generos):
        for _ in range(quantidade):
            titulo = random.choice(titulos)
            autor = random.choice(autores)
            genero = random.choice(generos)
            data_publicacao = random.randint(1950, 2024)
            livro = Livro(titulo, autor, genero, data_publicacao)
            self.livros.append(livro)
        return self.livros

    def buscar_livro(self, titulo):
        for livro in self.livros:
            if livro.titulo == titulo:
                return livro
        return "Livro não encontrado."

    def criar_catalogo(self, criterio):
        if not self.livros:
            return "Não há livros cadastrados."

        catalogo = {}
        for livro in self.livros:
            if criterio == "genero":
                catalogo.setdefault(livro.genero, []).append(livro)
            elif criterio == "autor":
                catalogo.setdefault(livro.autor, []).append(livro)
            elif criterio == "data_publicacao":
                catalogo.setdefault(livro.data_publicacao, []).append(livro)
            else:
                return "Critério de busca inválido."
        return catalogo


class Leitor:

    def __init__(self, nome):
        self.nome = nome
        self.livros_emprestados = {}

    def emprestar_livro(self, livro):
        if livro.emprestado:
            print(f"O livro {livro.titulo} já está emprestado.")
        else:
            self.livros_emprestados[livro.titulo] = livro
            livro.emprestado = True
            livro.data_emprestimo = date.today()
            livro.data_devolucao = livro.data_emprestimo + timedelta(days=14)
            print(
                f"{self.nome} Pegou emprestado o livro {livro.titulo}.\n Data de devolução: {livro.data_devolucao}"
            )

    def devolver_livro(self, livro):
        if livro.titulo in self.livros_emprestados:
            del self.livros_emprestados[livro.titulo]
            livro.emprestado = False
            livro.data_emprestimo = None
            livro.data_devolucao = None
            print(f"{self.nome} devolveu {livro.titulo}.")
        else:
            print(f"{self.nome} não possui o livro {livro.titulo}.")


def interface(biblioteca, bibliotecario):
    while True:
        print(" ╔════════════════════════════════════════╗")
        print(" ║                                        ║")
        print(" ║         Bem-vindo à biblioteca         ║")
        print(f" ║             {biblioteca.nome}!               ║")
        print(" ║                                        ║")
        print(" ║    '1 - Cadastrar Livro'               ║")
        print(" ║    '2 - Gerar livros aleatoriamente'   ║")
        print(" ║    '3 - Cadastrar Leitor'              ║")
        print(" ║    '4 - Emprestar Livro'               ║")
        print(" ║    '5 - Devolver Livro'                ║")
        print(" ║    '6 - Verificar Livros Emprestados'  ║")
        print(" ║    '7 - Verificar Livros Disponíveis'  ║")
        print(" ║    '8 - Criar catálogo'                ║")
        print(" ║    '9 - Catálogos disponiveis'         ║")
        print(" ║                                        ║")
        print(" ╚════════════════════════════════════════╝")

        opcoes = input("Digite o número da opção desejada: ")

        if opcoes == '1':
            titulo = input("Qual o título do livro? ")
            autor = input("Qual o nome do autor? ")
            generos_disponiveis = [
                "Ficção", "Não-ficção", "Fantasia", "Ação", "Romance", "Terror"
            ]
            while True:
                print(f"Gêneros disponíveis: {', '.join(generos_disponiveis)}")
                genero = input("Escolha o gênero do livro: ")
                if genero in generos_disponiveis:
                    break
                else:
                    print("Gênero inválido. Tente novamente.")
            data_publicacao = input("Qual o ano de publicação? ")
            livro = Livro(titulo, autor, genero, data_publicacao)
            bibliotecario.adicionar_livro(livro)

        elif opcoes == '2':
            quantidade = int(input("Quantos livros você gostaria de gerar? "))
            if quantidade <= 0:
                print("Por favor, insira um número positivo.")
                continue
            bibliotecario.gerar_livros_aleatorios(quantidade, titulos, autores,
                                                  generos)
            print(f"{quantidade} livros gerados com sucesso!")

        elif opcoes == '3':
            if len(biblioteca.leitores) >= biblioteca.capacidade_leitores:
                print("Capacidade máxima de leitores atingida.")
            else:
                nome_leitor = input("Digite o nome do leitor: ")
                leitor = Leitor(nome_leitor)
                biblioteca.leitores.append(leitor)
                print(f"Leitor {leitor.nome} cadastrado com sucesso!")

        elif opcoes == '4':
            leitor_nome = input("Nome do leitor: ")
            titulo_livro = input("Título do livro: ")
            leitor = next(
                (l for l in biblioteca.leitores if l.nome == leitor_nome),
                None)
            if leitor:
                livro = bibliotecario.buscar_livro(titulo_livro)
                if livro:
                    leitor.emprestar_livro(livro)
                else:
                    print("Livro não encontrado.")
            else:
                print("Leitor não encontrado.")

        elif opcoes == '5':
            leitor_nome = input("Nome do leitor: ")
            titulo_livro = input("Título do livro: ")
            leitor = next(
                (l for l in biblioteca.leitores if l.nome == leitor_nome),
                None)
            livro = bibliotecario.buscar_livro(titulo_livro)
            if leitor and isinstance(livro, Livro):
                leitor.devolver_livro(livro)

        elif opcoes == '6':
            nome_leitor = input(
                "Digite o nome do leitor para verificar os livros emprestados: "
            )
            leitor = next(
                (l for l in biblioteca.leitores if l.nome == nome_leitor),
                None)
            if leitor:
                print("Livros emprestados:")
                for livro in leitor.livros_emprestados.values():
                    print(f"- {livro.titulo}")
            else:
                print("Leitor não encontrado.")

        elif opcoes == '7':
            print("Livros disponíveis:")
            for livro in bibliotecario.livros:
                if not livro.emprestado:
                    print(f"- {livro}")

        elif opcoes == '8':
            criterio = input(
                "Digite o critério de busca (genero, autor ou data_publicacao): "
            )
            catalogo = bibliotecario.criar_catalogo(criterio)
            if catalogo:
                print(f"Catálogo de {criterio}:")
                for chave, livros in catalogo.items():
                    print(f"{chave}:")
                    for livro in livros:
                        print(f"- {livro}")
        elif opcoes == '9':
            print("Catálogos disponíveis:")
            for criterio in ["genero", "autor", "data_publicacao"]:
                catalogo = bibliotecario.criar_catalogo(criterio)
                if catalogo:
                    print(f"Catálogo de {criterio}:")
                    for chave, livros in catalogo.items():
                        print(f"{chave}:")
                        for livro in livros:
                            print(f"- {livro}")

        else:
            print("Opção inválida. Tente novamente.")


titulos = [
    "Crônicas","Feitiço","Árvore","O Enigma","A Jornada",
    "Sombras do Passado","O Guardião","Luz e Trevas","O Despertar",
    "A Profecia","Reino Perdido","Segredos Antigos","A Última Batalha",
    "O Herdeiro","A Aliança","O Portal","Ventos do Norte","A Espada Sagrada",
    "O Feiticeiro","A Floresta Encantada","O Caminho","A Lenda","O Refúgio",
    "A Chave","O Labirinto","O Destino","A Ascensão","O Confronto","A Redenção",
    "O Sacrifício","A Conquista","O Mistério","A Fuga","O Retorno","A Invasão",
    "O Segredo","A Busca","O Legado","A Revolta","O Pacto","A Missão","O Eclipse",
    "A Queda","O Renascimento","A Expedição","O Viajante","A Fortaleza","O Guerreiro",
    "A Magia","O Dragão","A Torre","O Feudo","A Ilha","O Império"
]
autores = ["William Shakespeare", "Miguel de Cervantes", "Jane Austen",
    "Charles Dickens", "Fiódor Dostoiévski", "Leo Tolstoy", "Mark Twain",
    "Ernest Hemingway", "Gabriel García Márquez", "J.K. Rowling",
    "George Orwell", "J.R.R. Tolkien", "Agatha Christie", "Arthur Conan Doyle",
    "Isaac Asimov", "Stephen King", "Clarice Lispector", "Machado de Assis",
    "José Saramago", "Edgar Allan Poe", "Virginia Woolf", "Franz Kafka",
    "H.G. Wells", "Mary Shelley", "Homer", "James Joyce", "Herman Melville",
    "Emily Brontë", "Harper Lee", "Toni Morrison", "Margaret Atwood",
    "Kurt Vonnegut", "Philip K. Dick", "Aldous Huxley", "Ray Bradbury",
    "J.D. Salinger", "Oscar Wilde", "George R.R. Martin", "Neil Gaiman",
    "Tolkien", "C.S. Lewis", "Dan Brown", "Paulo Coelho", "Haruki Murakami",
    "Kazuo Ishiguro", "Chimamanda Ngozi Adichie", "Isabel Allende",
    "Mario Vargas Llosa", "Orhan Pamuk", "Salman Rushdie", "Umberto Eco"
]
generos = ["Ficção", "Não-ficção", "Fantasia", 'ação', 'Romance', 'Terror']

biblioteca = Biblioteca("Magic Books")
bibliotecario = Bibliotecario("Mr.code")

interface(biblioteca, bibliotecario)
